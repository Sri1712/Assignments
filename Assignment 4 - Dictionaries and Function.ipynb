{
 "cells": [
  {
   "cell_type": "markdown",
   "id": "b84fc5a4",
   "metadata": {},
   "source": [
    "# Dictionaries and function \n",
    "\n",
    "##### 1.1 Write a Python Program(with class concepts) to find the area of the triangle using the below formula. area = (s*(s-a)(s-b)(s-c)) ** 0.5 Function to take the length of the sides of triangle from user should be defined in the parent class and function to calculate the area should be defined in subclass."
   ]
  },
  {
   "cell_type": "code",
   "execution_count": 1,
   "id": "ea773235",
   "metadata": {},
   "outputs": [
    {
     "name": "stdout",
     "output_type": "stream",
     "text": [
      "Enter the length of the sides of triangle\n",
      "Enter the length of side a:3\n",
      "Enter the length of side b:4.5\n",
      "Enter the length of side c:6\n",
      "Initialised Triangle super class [3.0,4.5,6.0]\n",
      "6.535659396725016\n"
     ]
    }
   ],
   "source": [
    "class triangle:\n",
    " def __init__(self, a, b, c):\n",
    "  self.a = a\n",
    "  self.b = b\n",
    "  self.c = c\n",
    "  print (\"Initialised Triangle super class [\" +  str(a) + \",\" + str(b) + \",\" + str(c) + \"]\")\n",
    "\n",
    "class area(triangle):\n",
    "    def _init_(self,a,b,c):\n",
    "            triangle._init_(self)\n",
    "            \n",
    "    def area(self):\n",
    "            s=(self.a+self.b+self.c)/2\n",
    "            area=(s*(s-self.a)*(s-self.b)*(s-self.c))**0.5\n",
    "            return area\n",
    "    \n",
    "print(\"Enter the length of the sides of triangle\")\n",
    "a=float(input(\"Enter the length of side a:\"))\n",
    "b=float(input(\"Enter the length of side b:\"))\n",
    "c=float(input(\"Enter the length of side c:\"))\n",
    "result=area(a,b,c)\n",
    "\n",
    "print(result.area())"
   ]
  },
  {
   "cell_type": "markdown",
   "id": "6525029c",
   "metadata": {},
   "source": [
    "##### 1.2 Write a function filter_long_words() that takes a list of words and an integer n and returns the list of words that are longer than n."
   ]
  },
  {
   "cell_type": "code",
   "execution_count": 2,
   "id": "1d8a0ee7",
   "metadata": {},
   "outputs": [
    {
     "name": "stdout",
     "output_type": "stream",
     "text": [
      "Enter the value of n3\n",
      "List of words longer than 3\n",
      "['apple', 'ineuron', 'machine', 'progression']\n"
     ]
    }
   ],
   "source": [
    "def filter_long_words(words,n):\n",
    "    final=[]\n",
    "    for i in range(0,len(words)):\n",
    "        if len(words[i])>n:\n",
    "            final.append(words[i])\n",
    "    return(final)\n",
    "               \n",
    "words = ['sri','apple','ineuron','machine','progression']\n",
    "n=int(input('Enter the value of n'))\n",
    "result=filter_long_words(words,n)\n",
    "print(\"List of words longer than {}\".format(n))\n",
    "print(result)"
   ]
  },
  {
   "cell_type": "markdown",
   "id": "173602e6",
   "metadata": {},
   "source": [
    "##### 2.1 Write a Python program using function concept that maps list of words into a list of integers representing the lengths of the corresponding words . Hint: If a list [ ab,cde,erty] is passed on to the python function output should come as [2,3,4] Here 2,3 and 4 are the lengths of the words in the list."
   ]
  },
  {
   "cell_type": "code",
   "execution_count": 3,
   "id": "8a8f9cce",
   "metadata": {},
   "outputs": [
    {
     "name": "stdout",
     "output_type": "stream",
     "text": [
      "[2, 3, 4, 5, 8, 10]\n"
     ]
    }
   ],
   "source": [
    "def list_of_words(word):\n",
    "    final=[]\n",
    "    for i in range(0,len(word)):\n",
    "        final.append(len(word[i]))\n",
    "    return final\n",
    "\n",
    "word=['ab','bcd','erty','lists','function','dictionary']\n",
    "result=list_of_words(word)\n",
    "print(result)"
   ]
  },
  {
   "cell_type": "markdown",
   "id": "72361c8c",
   "metadata": {},
   "source": [
    "##### 2.2 Write a Python function which takes a character (i.e. a string of length 1) and returns True if it is a vowel, False otherwise. "
   ]
  },
  {
   "cell_type": "code",
   "execution_count": 4,
   "id": "52acc26e",
   "metadata": {},
   "outputs": [
    {
     "name": "stdout",
     "output_type": "stream",
     "text": [
      "False\n",
      "False\n",
      "True\n",
      "Enter a character of length 1\n"
     ]
    }
   ],
   "source": [
    "def vowel(letter):\n",
    "    if len(letter)==1:\n",
    "        if letter in ('a','e','i','o','u','A','E','I','O','U'):\n",
    "            return True\n",
    "        else:\n",
    "            return False\n",
    "    else:\n",
    "        return \"Enter a character of length 1\"\n",
    "    \n",
    "print(vowel('s'))\n",
    "print(vowel('r'))\n",
    "print(vowel('i'))\n",
    "print(vowel('data'))"
   ]
  },
  {
   "cell_type": "code",
   "execution_count": null,
   "id": "72b3a754",
   "metadata": {},
   "outputs": [],
   "source": []
  }
 ],
 "metadata": {
  "kernelspec": {
   "display_name": "Python 3 (ipykernel)",
   "language": "python",
   "name": "python3"
  },
  "language_info": {
   "codemirror_mode": {
    "name": "ipython",
    "version": 3
   },
   "file_extension": ".py",
   "mimetype": "text/x-python",
   "name": "python",
   "nbconvert_exporter": "python",
   "pygments_lexer": "ipython3",
   "version": "3.7.11"
  }
 },
 "nbformat": 4,
 "nbformat_minor": 5
}
