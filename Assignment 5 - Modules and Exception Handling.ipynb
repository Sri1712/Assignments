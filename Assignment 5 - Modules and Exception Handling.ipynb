{
 "cells": [
  {
   "cell_type": "markdown",
   "id": "cd734774",
   "metadata": {},
   "source": [
    "## Exception Handling \n",
    "\n",
    "#### 1.Write a function to compute 5/0 and use try/except to catch the exceptions."
   ]
  },
  {
   "cell_type": "code",
   "execution_count": 1,
   "id": "2ffd3470",
   "metadata": {},
   "outputs": [
    {
     "name": "stdout",
     "output_type": "stream",
     "text": [
      "Error\n"
     ]
    }
   ],
   "source": [
    "def handle():\n",
    "    try:\n",
    "        5/0\n",
    "    except Exception as e:\n",
    "        print('Error')\n",
    "        \n",
    "handle()"
   ]
  },
  {
   "cell_type": "markdown",
   "id": "8d8050b6",
   "metadata": {},
   "source": [
    "#### 2.Implement a Python program to generate all sentences where subject is in [\"Americans\",\"Indians\"] and verb is in [\"Play\", \"watch\"] and the object is in [\"Baseball\",\"cricket\"].\n",
    "\n",
    "Hint: Subject,Verb and Object should be declared in the program as shown below. subjects=[\"Americans \",\"Indians\"] verbs=[\"play\",\"watch\"] objects=[\"Baseball\",\"Cricket\"]\n",
    "\n",
    "Output should come as below:\n",
    "\n",
    "Americans play Baseball. Americans play Cricket. Americans watch Baseball. Americans watch Cricket. Indians play Baseball. Indians play Cricket. Indians watch Baseball. Indians watch Cricket."
   ]
  },
  {
   "cell_type": "code",
   "execution_count": 2,
   "id": "b6c1e3bf",
   "metadata": {},
   "outputs": [
    {
     "name": "stdout",
     "output_type": "stream",
     "text": [
      "Americans play Baseball\n",
      "Americans play Cricket\n",
      "Americans watch Baseball\n",
      "Americans watch Cricket\n",
      "Indians play Baseball\n",
      "Indians play Cricket\n",
      "Indians watch Baseball\n",
      "Indians watch Cricket\n"
     ]
    }
   ],
   "source": [
    "subjects=['Americans','Indians']\n",
    "verbs=['play','watch']\n",
    "objects=['Baseball','Cricket']\n",
    "\n",
    "for i in range(0,len(subjects)):\n",
    "    for j in range(0,len(verbs)):\n",
    "        for k in range(0,len(objects)):\n",
    "            print(subjects[i]+' '+verbs[j]+' '+objects[k])"
   ]
  },
  {
   "cell_type": "code",
   "execution_count": null,
   "id": "c97bfb71",
   "metadata": {},
   "outputs": [],
   "source": []
  }
 ],
 "metadata": {
  "kernelspec": {
   "display_name": "Python 3 (ipykernel)",
   "language": "python",
   "name": "python3"
  },
  "language_info": {
   "codemirror_mode": {
    "name": "ipython",
    "version": 3
   },
   "file_extension": ".py",
   "mimetype": "text/x-python",
   "name": "python",
   "nbconvert_exporter": "python",
   "pygments_lexer": "ipython3",
   "version": "3.7.11"
  }
 },
 "nbformat": 4,
 "nbformat_minor": 5
}
