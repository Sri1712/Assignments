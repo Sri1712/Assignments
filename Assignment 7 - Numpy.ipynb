{
 "cells": [
  {
   "cell_type": "markdown",
   "id": "b2185707",
   "metadata": {},
   "source": [
    "## Problem Statement"
   ]
  },
  {
   "cell_type": "markdown",
   "id": "a1213c45",
   "metadata": {},
   "source": [
    "1. Write a function so that the columns of the output matrix are powers of the input vector. The order of the powers is determined by the increasing boolean argument. Specifically, when increasing is False, the i-th output column is the input vector raised element-wise to the power of N - i - 1. HINT: Such a matrix with a geometric progression in each row is named for AlexandreTheophile Vandermonde."
   ]
  },
  {
   "cell_type": "code",
   "execution_count": 1,
   "id": "1b056d55",
   "metadata": {},
   "outputs": [],
   "source": [
    "import numpy as np"
   ]
  },
  {
   "cell_type": "code",
   "execution_count": 2,
   "id": "8da4e002",
   "metadata": {},
   "outputs": [
    {
     "name": "stdout",
     "output_type": "stream",
     "text": [
      "[[    1     1     1     1     1     1     1]\n",
      " [   64    32    16     8     4     2     1]\n",
      " [  729   243    81    27     9     3     1]\n",
      " [ 4096  1024   256    64    16     4     1]\n",
      " [15625  3125   625   125    25     5     1]]\n"
     ]
    }
   ],
   "source": [
    "arr = np.array([1,2,3,4,5])\n",
    "n=7\n",
    "res = np.column_stack([arr**(n-i-1) for i in range(n)])\n",
    "print(res)"
   ]
  },
  {
   "cell_type": "code",
   "execution_count": 3,
   "id": "c7e638ce",
   "metadata": {},
   "outputs": [
    {
     "name": "stdout",
     "output_type": "stream",
     "text": [
      "[[    1     1     1     1     1     1     1]\n",
      " [   64    32    16     8     4     2     1]\n",
      " [  729   243    81    27     9     3     1]\n",
      " [ 4096  1024   256    64    16     4     1]\n",
      " [15625  3125   625   125    25     5     1]]\n"
     ]
    }
   ],
   "source": [
    "#similar matrix using np.vander function in numpy \n",
    "arr = np.array([1,2,3,4,5])\n",
    "n=7\n",
    "res = np.vander(arr,n,increasing=False)\n",
    "print(res)"
   ]
  },
  {
   "cell_type": "markdown",
   "id": "d5f2fc1a",
   "metadata": {},
   "source": [
    "2. Given a sequence of n values x1, x2, ..., xn and a window size k>0, the k-th moving average of the given sequence is defined as follows: <br> The moving average sequence has n-k+1 elements as shown below. "
   ]
  },
  {
   "cell_type": "code",
   "execution_count": 4,
   "id": "c7f5becc",
   "metadata": {},
   "outputs": [],
   "source": [
    "# The moving averages with k=4 of a ten-value sequence (n=10) is shown below\n",
    "# i 1 2 3 4 5 6 7 8 9 10\n",
    "# ===== == == == == == == == == == ==\n",
    "# Input 10 20 30 40 50 60 70 80 90 100\n",
    "# y1 25 = (10+20+30+40)/4\n",
    "# y2 35 = (20+30+40+50)/4\n",
    "# y3 45 = (30+40+50+60)/4\n",
    "# y4 55 = (40+50+60+70)/4\n",
    "# y5 65 = (50+60+70+80)/4\n",
    "# y6 75 = (60+70+80+90)/4\n",
    "# y7 85 = (70+80+90+100)/4\n",
    "# Thus, the moving average sequence has n-k+1=10-4+1=7 values."
   ]
  },
  {
   "cell_type": "markdown",
   "id": "4ae2295c",
   "metadata": {},
   "source": [
    "Write a function to find moving average in an array over a window: Test it over [3, 5, 7, 2, 8, 10, 11, 65, 72, 81, 99, 100, 150] and window of 3"
   ]
  },
  {
   "cell_type": "code",
   "execution_count": 5,
   "id": "50528b01",
   "metadata": {},
   "outputs": [],
   "source": [
    "def move_avg(lst,k): \n",
    "    seq=len(lst)-k+1\n",
    "    outputs=[]\n",
    "    for num in range(seq):\n",
    "        output=sum(lst[num:num+k])/k\n",
    "        outputs.append(output)\n",
    "    return outputs, len(outputs) "
   ]
  },
  {
   "cell_type": "code",
   "execution_count": 6,
   "id": "d7c9bfb8",
   "metadata": {},
   "outputs": [
    {
     "name": "stdout",
     "output_type": "stream",
     "text": [
      "[25.0, 35.0, 45.0, 55.0, 65.0, 75.0, 85.0] 7\n"
     ]
    }
   ],
   "source": [
    "inp=[10,20,30,40,50,60,70,80,90,100]\n",
    "out,l=move_avg(inp,4)\n",
    "print(out,l)"
   ]
  },
  {
   "cell_type": "code",
   "execution_count": 7,
   "id": "6ccdf1d8",
   "metadata": {},
   "outputs": [
    {
     "name": "stdout",
     "output_type": "stream",
     "text": [
      "[5.0, 4.666666666666667, 5.666666666666667, 6.666666666666667, 9.666666666666666, 28.666666666666668, 49.333333333333336, 72.66666666666667, 84.0, 93.33333333333333, 116.33333333333333] 11\n"
     ]
    }
   ],
   "source": [
    "inp=[3, 5, 7, 2, 8, 10, 11, 65, 72, 81, 99, 100, 150]\n",
    "out,l=move_avg(inp,3)\n",
    "print(out,l)"
   ]
  },
  {
   "cell_type": "code",
   "execution_count": 8,
   "id": "d26c2858",
   "metadata": {},
   "outputs": [],
   "source": [
    "#similar problem can be solved using np.cumsum() function in numpy\n",
    "# np.cumsum returns the cumulative sum of the elements along a given axis.\n",
    "\n",
    "def move_avg(lst,n):\n",
    "    res = np.cumsum(lst,dtype=float)\n",
    "    res[n:] = res[n:] - res[:-n]\n",
    "    return res[n-1:]/n"
   ]
  },
  {
   "cell_type": "code",
   "execution_count": 65,
   "id": "b0cbb231",
   "metadata": {},
   "outputs": [
    {
     "name": "stdout",
     "output_type": "stream",
     "text": [
      "[  5.     4.67   5.67   6.67   9.67  28.67  49.33  72.67  84.    93.33\n",
      " 116.33]\n"
     ]
    }
   ],
   "source": [
    "lst = np.array([3, 5, 7, 2, 8, 10, 11, 65, 72, 81, 99, 100, 150])\n",
    "out = np.array(move_avg(lst,3)).round(2)\n",
    "print(out)"
   ]
  }
 ],
 "metadata": {
  "kernelspec": {
   "display_name": "Python 3 (ipykernel)",
   "language": "python",
   "name": "python3"
  },
  "language_info": {
   "codemirror_mode": {
    "name": "ipython",
    "version": 3
   },
   "file_extension": ".py",
   "mimetype": "text/x-python",
   "name": "python",
   "nbconvert_exporter": "python",
   "pygments_lexer": "ipython3",
   "version": "3.7.11"
  }
 },
 "nbformat": 4,
 "nbformat_minor": 5
}
