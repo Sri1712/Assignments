{
 "cells": [
  {
   "cell_type": "markdown",
   "id": "c4935354",
   "metadata": {},
   "source": [
    "# Tuples and Set"
   ]
  },
  {
   "cell_type": "markdown",
   "id": "94f4f046",
   "metadata": {},
   "source": [
    "1.1 Write a Python Program to implement your own myreduce() function which works exactly like Python's built-in function reduce()"
   ]
  },
  {
   "cell_type": "code",
   "execution_count": 23,
   "id": "86e6a09b",
   "metadata": {},
   "outputs": [
    {
     "data": {
      "text/plain": [
       "5040"
      ]
     },
     "execution_count": 23,
     "metadata": {},
     "output_type": "execute_result"
    }
   ],
   "source": [
    "#Python built-in reduce() function\n",
    "\n",
    "from functools import reduce\n",
    "def multi(x,y):\n",
    "    return x*y\n",
    "\n",
    "l1=[2,3,4,5,6,7]\n",
    "reduce(multi,l1)"
   ]
  },
  {
   "cell_type": "code",
   "execution_count": 24,
   "id": "b8f18a77",
   "metadata": {},
   "outputs": [
    {
     "name": "stdout",
     "output_type": "stream",
     "text": [
      "5040\n"
     ]
    }
   ],
   "source": [
    "#My reduce() function\n",
    "\n",
    "def myreduce(multi,list1):\n",
    "    return x\n",
    "\n",
    "def multi(x,y):\n",
    "    return x*y\n",
    "\n",
    "list1=[2,3,4,5,6,7]\n",
    "x=list1[0]\n",
    "for i in range(1,len(list1)):\n",
    "    y=list1[i]\n",
    "    x=multi(x,y)\n",
    "print(myreduce(multi,list1))"
   ]
  },
  {
   "cell_type": "markdown",
   "id": "ae212fdd",
   "metadata": {},
   "source": [
    "1.2 Write a Python program to implement your own myfilter() function which works exactly like Python's built-in function filter()"
   ]
  },
  {
   "cell_type": "code",
   "execution_count": 25,
   "id": "a3666f58",
   "metadata": {},
   "outputs": [
    {
     "data": {
      "text/plain": [
       "[18, 14, 2, 4, 6, 8, 10, 12]"
      ]
     },
     "execution_count": 25,
     "metadata": {},
     "output_type": "execute_result"
    }
   ],
   "source": [
    "#Python built-in filter() function \n",
    "\n",
    "def even(x):\n",
    "    if x%2==0:\n",
    "        return True\n",
    "    \n",
    "l1=[18,14,2,3,4,5,6,7,8,9,10,12]\n",
    "list(filter(even,l1))"
   ]
  },
  {
   "cell_type": "code",
   "execution_count": 26,
   "id": "5fc677ac",
   "metadata": {},
   "outputs": [
    {
     "name": "stdout",
     "output_type": "stream",
     "text": [
      "[18, 14, 2, 4, 6, 8, 10, 12]\n"
     ]
    }
   ],
   "source": [
    "#My filter() function\n",
    "\n",
    "def myfilter(even,l1):\n",
    "    return even(x)\n",
    "\n",
    "l=[18,14,2,3,4,5,6,7,8,9,10,12]\n",
    "final=[]\n",
    "def even(x):\n",
    "    for i in l:\n",
    "        if i%2==0:\n",
    "            final.append(i)\n",
    "    print(final)\n",
    "myfilter(even,l)"
   ]
  },
  {
   "cell_type": "markdown",
   "id": "b9dcf1a2",
   "metadata": {},
   "source": [
    "2. Implement List comprehensions to produce the following lists. Write List comprehensions to produce the following Lists \n",
    "['x', 'xx', 'xxx', 'xxxx', 'y', 'yy', 'yyy', 'yyyy', 'z', 'zz', 'zzz', 'zzzz'] \\\n",
    "['x', 'y', 'z', 'xx', 'yy', 'zz', 'xx', 'yy', 'zz', 'xxxx', 'yyyy', 'zzzz'] \\\n",
    "[[2], [3], [4], [3], [4], [5], [4], [5], [6]] \\\n",
    "[[2, 3, 4, 5], [3, 4, 5, 6], [4, 5, 6, 7], [5, 6, 7, 8]] \\\n",
    "[(1, 1), (2, 1), (3, 1), (1, 2), (2, 2), (3, 2), (1, 3), (2, 3), (3, 3)]"
   ]
  },
  {
   "cell_type": "code",
   "execution_count": 27,
   "id": "04ca047e",
   "metadata": {},
   "outputs": [
    {
     "name": "stdout",
     "output_type": "stream",
     "text": [
      "['x', 'xx', 'xxx', 'xxxx', 'y', 'yy', 'yyy', 'yyyy', 'z', 'zz', 'zzz', 'zzzz']\n"
     ]
    }
   ],
   "source": [
    "l=['x','y','z']\n",
    "final = [itr*count for itr in l for count in range(1,5)]\n",
    "print(final)"
   ]
  },
  {
   "cell_type": "code",
   "execution_count": 28,
   "id": "5d99ae02",
   "metadata": {},
   "outputs": [
    {
     "name": "stdout",
     "output_type": "stream",
     "text": [
      "['x', 'y', 'z', 'xx', 'yy', 'zz', 'xxx', 'yyy', 'zzz', 'xxxx', 'yyyy', 'zzzz']\n"
     ]
    }
   ],
   "source": [
    "l=['x','y','z']\n",
    "final = [itr*count for count in range(1,5) for itr in l ]\n",
    "print(final)"
   ]
  },
  {
   "cell_type": "code",
   "execution_count": 29,
   "id": "c9e53276",
   "metadata": {},
   "outputs": [
    {
     "name": "stdout",
     "output_type": "stream",
     "text": [
      "[[2], [3], [4], [3], [4], [5], [4], [5], [6]]\n"
     ]
    }
   ],
   "source": [
    "l=[2,3,4]\n",
    "final=[[itr+num] for itr in l for num in range(0,3)]\n",
    "print(final)"
   ]
  },
  {
   "cell_type": "code",
   "execution_count": 30,
   "id": "348e5bd7",
   "metadata": {},
   "outputs": [
    {
     "name": "stdout",
     "output_type": "stream",
     "text": [
      "[[2, 3, 4, 5], [3, 4, 5, 6], [4, 5, 6, 7], [5, 6, 7, 8]]\n"
     ]
    }
   ],
   "source": [
    "l=[2,3,4,5]\n",
    "final=[[itr+num for itr in l] for num in range(0,4)]\n",
    "print(final)"
   ]
  },
  {
   "cell_type": "code",
   "execution_count": 31,
   "id": "e0721b09",
   "metadata": {},
   "outputs": [
    {
     "name": "stdout",
     "output_type": "stream",
     "text": [
      "[(1, 1), (2, 1), (3, 1), (1, 2), (2, 2), (3, 2), (1, 3), (2, 3), (3, 3)]\n"
     ]
    }
   ],
   "source": [
    "l=[1,2,3]\n",
    "final=[(j,itr) for itr in l for j in l]\n",
    "print(final)"
   ]
  }
 ],
 "metadata": {
  "kernelspec": {
   "display_name": "Python 3 (ipykernel)",
   "language": "python",
   "name": "python3"
  },
  "language_info": {
   "codemirror_mode": {
    "name": "ipython",
    "version": 3
   },
   "file_extension": ".py",
   "mimetype": "text/x-python",
   "name": "python",
   "nbconvert_exporter": "python",
   "pygments_lexer": "ipython3",
   "version": "3.7.11"
  }
 },
 "nbformat": 4,
 "nbformat_minor": 5
}
